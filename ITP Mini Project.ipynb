{
 "cells": [
  {
   "cell_type": "markdown",
   "metadata": {},
   "source": [
    "#                     Courier Management System"
   ]
  },
  {
   "cell_type": "raw",
   "metadata": {},
   "source": [
    "For a seamless eCommerce shopping experience, it is essential to deliver the product promptly to the customer. And that’s where a professional courier service plays a vital role.'FastTrack' courier company stores the relevant data of its clients and parcels in the form of dictionary. Create a dictionary for storing shipment information in key-value pairs. Shipment id is used as a key and list of other attributes like sender, receiver, start date, DeliveryDate,Sender_location,Receiver_location, Delivery status, Shipping cost is associated with shipment id. Use the data shown in the table below."
   ]
  },
  {
   "cell_type": "raw",
   "metadata": {},
   "source": [
    "Shipment_id  Sender  Receiver  Start_date  Delivery_date  Sender_location  Receiver_location  Delivery_status  Shipping_cost   \n",
    "101            1        3      14-03-2020  25-03-2020     Area1            Area6              Delivered        198\n",
    "102            4        1      18-06-2020  09-07-2020     Area2            Area4              Delivered        275             \n",
    "103            2        3      01-12-2020  Null           Area5            Area1              In-transit       200\n",
    "104            1        5      23-06-2020  25-06-2020     Area1            Area4              Delivered        314\n",
    "105            3        4      29-08-2020  10-09-2020     Area5            Area3              Delivered        275\n",
    "106            5        2      28-06-2020  Null           Area3            Area1              In-transit       270 \n",
    "\n",
    "Use below table to refer to client’s data. Please note that a client can be a sender or receiver.\n",
    "Client_id     Client_Name\n",
    "1             Philip  \n",
    "2             Omega III\n",
    "3             Ramya \n",
    "4             Romesh\n",
    "5             John"
   ]
  },
  {
   "cell_type": "markdown",
   "metadata": {},
   "source": [
    "# Q1. Create a Dictionary of lists to store the information of shipments given in the table."
   ]
  },
  {
   "cell_type": "code",
   "execution_count": 9,
   "metadata": {},
   "outputs": [
    {
     "data": {
      "text/plain": [
       "{'101': {'sender': 1,\n",
       "  'receiver': 3,\n",
       "  'start_date': '14-03-2020',\n",
       "  'Delivery_date': '25-03-2020',\n",
       "  'sender_location': 'Area1',\n",
       "  'reciever_location': 'Area6',\n",
       "  'delivery_status': 'Delivered',\n",
       "  'shipping_cost': 198},\n",
       " '102': {'sender': 4,\n",
       "  'receiver': 1,\n",
       "  'start_date': '18-06-2020',\n",
       "  'Delivery_date': '09-07-2020',\n",
       "  'sender_location': 'Area2',\n",
       "  'reciever_location': 'Area4',\n",
       "  'delivery_status': 'Delivered',\n",
       "  'shipping_cost': 275},\n",
       " '103': {'sender': 2,\n",
       "  'receiver': 3,\n",
       "  'start_date': '01-12-2020',\n",
       "  'Delivery_date': 'Null',\n",
       "  'sender_location': 'Area5',\n",
       "  'reciever_location': 'Area1',\n",
       "  'delivery_status': 'In-transit',\n",
       "  'shipping_cost': 200},\n",
       " '104': {'sender': 1,\n",
       "  'receiver': 5,\n",
       "  'start_date': '23-06-2020',\n",
       "  'Delivery_date': '25-06-2020',\n",
       "  'sender_location': 'Area1',\n",
       "  'reciever_location': 'Area4',\n",
       "  'delivery_status': 'Delivered',\n",
       "  'shipping_cost': 314},\n",
       " '105': {'sender': 3,\n",
       "  'receiver': 4,\n",
       "  'start_date': '29-08-2020',\n",
       "  'Delivery_date': '10-09-2020',\n",
       "  'sender_location': 'Area5',\n",
       "  'reciever_location': 'Area3',\n",
       "  'delivery_status': 'Delivered',\n",
       "  'shipping_cost': 275},\n",
       " '106': {'sender': 5,\n",
       "  'receiver': 2,\n",
       "  'start_date': '28-06-2020',\n",
       "  'Delivery_date': 'Null',\n",
       "  'sender_location': 'Area3',\n",
       "  'reciever_location': 'Area1',\n",
       "  'delivery_status': 'In-transit',\n",
       "  'shipping_cost': 270}}"
      ]
     },
     "execution_count": 9,
     "metadata": {},
     "output_type": "execute_result"
    }
   ],
   "source": [
    "data={'101':{'sender':1,'receiver':3,'start_date':'14-03-2020','Delivery_date':'25-03-2020','sender_location':'Area1','reciever_location'\n",
    ":'Area6','delivery_status':'Delivered','shipping_cost':198},'102':{'sender':4,'receiver':1,'start_date':'18-06-2020','Delivery_date':\n",
    "'09-07-2020', 'sender_location':'Area2','reciever_location':'Area4','delivery_status':'Delivered','shipping_cost':275},'103':{'sender'\n",
    ":2,'receiver':3,'start_date':'01-12-2020','Delivery_date':'Null','sender_location':'Area5','reciever_location':'Area1','delivery_status' \n",
    ":'In-transit','shipping_cost':200}, '104':{'sender':1,'receiver':5,'start_date':'23-06-2020','Delivery_date':'25-06-2020', 'sender_location'\n",
    ":'Area1','reciever_location':'Area4', 'delivery_status':'Delivered','shipping_cost':314},'105':{'sender':3,'receiver':4,'start_date': \n",
    "'29-08-2020','Delivery_date':'10-09-2020', 'sender_location':'Area5','reciever_location':'Area3', 'delivery_status' :\n",
    "'Delivered','shipping_cost':275},'106':{'sender':5,'receiver':2,'start_date':'28-06-2020','Delivery_date':'Null', \n",
    "'sender_location':'Area3','reciever_location':'Area1', 'delivery_status' :'In-transit','shipping_cost':270}} \n",
    "data"
   ]
  },
  {
   "cell_type": "markdown",
   "metadata": {},
   "source": [
    "# Q2. Create a Dictionary of to store the information of clients given in the table."
   ]
  },
  {
   "cell_type": "code",
   "execution_count": 10,
   "metadata": {},
   "outputs": [
    {
     "data": {
      "text/plain": [
       "{1: {'client_name': 'Philip'},\n",
       " 2: {'client_name': 'Omega III'},\n",
       " 3: {'client_name': 'Ramya'},\n",
       " 4: {'client_name': 'Romesh'},\n",
       " 5: {'client_name': 'John'}}"
      ]
     },
     "execution_count": 10,
     "metadata": {},
     "output_type": "execute_result"
    }
   ],
   "source": [
    "client_data = {1:{'client_name':'Philip'},2:{'client_name':'Omega III'},3:{'client_name':'Ramya'},4:{'client_name':'Romesh'},\n",
    "              5:{'client_name':'John'}}\n",
    "client_data"
   ]
  },
  {
   "cell_type": "markdown",
   "metadata": {},
   "source": [
    "# Q3. Write a code to replace client’s id with their respective name in shipment dictionary using a loop and dictionary \n",
    "comprehension."
   ]
  },
  {
   "cell_type": "code",
   "execution_count": 11,
   "metadata": {},
   "outputs": [
    {
     "name": "stdout",
     "output_type": "stream",
     "text": [
      "{'101': {'sender': 'Philip', 'receiver': 'Ramya', 'start_date': '14-03-2020', 'Delivery_date': '25-03-2020', 'sender_location': 'Area1', 'reciever_location': 'Area6', 'delivery_status': 'Delivered', 'shipping_cost': 198}, '102': {'sender': 'Romesh', 'receiver': 'Philip', 'start_date': '18-06-2020', 'Delivery_date': '09-07-2020', 'sender_location': 'Area2', 'reciever_location': 'Area4', 'delivery_status': 'Delivered', 'shipping_cost': 275}, '103': {'sender': 'Omega III', 'receiver': 'Ramya', 'start_date': '01-12-2020', 'Delivery_date': 'Null', 'sender_location': 'Area5', 'reciever_location': 'Area1', 'delivery_status': 'In-transit', 'shipping_cost': 200}, '104': {'sender': 'Philip', 'receiver': 'John', 'start_date': '23-06-2020', 'Delivery_date': '25-06-2020', 'sender_location': 'Area1', 'reciever_location': 'Area4', 'delivery_status': 'Delivered', 'shipping_cost': 314}, '105': {'sender': 'Ramya', 'receiver': 'Romesh', 'start_date': '29-08-2020', 'Delivery_date': '10-09-2020', 'sender_location': 'Area5', 'reciever_location': 'Area3', 'delivery_status': 'Delivered', 'shipping_cost': 275}, '106': {'sender': 'John', 'receiver': 'Omega III', 'start_date': '28-06-2020', 'Delivery_date': 'Null', 'sender_location': 'Area3', 'reciever_location': 'Area1', 'delivery_status': 'In-transit', 'shipping_cost': 270}}\n"
     ]
    }
   ],
   "source": [
    "\n",
    "for i in client_data:\n",
    "    for j in data:\n",
    "        if i==data[j]['sender']:\n",
    "            data[j]['sender']=client_data[i]['client_name']\n",
    "        elif i==data[j]['receiver']:\n",
    "            data[j]['receiver']=client_data[i]['client_name']\n",
    "            \n",
    "print(data)\n"
   ]
  },
  {
   "cell_type": "markdown",
   "metadata": {},
   "source": [
    "# Q4. Print all shipment details that are sent by Phillip"
   ]
  },
  {
   "cell_type": "code",
   "execution_count": 13,
   "metadata": {},
   "outputs": [
    {
     "data": {
      "text/plain": [
       "[{'sender': 'Philip',\n",
       "  'receiver': 'Ramya',\n",
       "  'start_date': '14-03-2020',\n",
       "  'Delivery_date': '25-03-2020',\n",
       "  'sender_location': 'Area1',\n",
       "  'reciever_location': 'Area6',\n",
       "  'delivery_status': 'Delivered',\n",
       "  'shipping_cost': 198},\n",
       " {'sender': 'Philip',\n",
       "  'receiver': 'John',\n",
       "  'start_date': '23-06-2020',\n",
       "  'Delivery_date': '25-06-2020',\n",
       "  'sender_location': 'Area1',\n",
       "  'reciever_location': 'Area4',\n",
       "  'delivery_status': 'Delivered',\n",
       "  'shipping_cost': 314}]"
      ]
     },
     "execution_count": 13,
     "metadata": {},
     "output_type": "execute_result"
    }
   ],
   "source": [
    "[data[i] for i in data if data[i]['sender']=='Philip']\n"
   ]
  },
  {
   "cell_type": "markdown",
   "metadata": {},
   "source": [
    "# Q5. Print all shipment details that are received by Ramya."
   ]
  },
  {
   "cell_type": "code",
   "execution_count": 14,
   "metadata": {},
   "outputs": [
    {
     "data": {
      "text/plain": [
       "[{'sender': 'Philip',\n",
       "  'receiver': 'Ramya',\n",
       "  'start_date': '14-03-2020',\n",
       "  'Delivery_date': '25-03-2020',\n",
       "  'sender_location': 'Area1',\n",
       "  'reciever_location': 'Area6',\n",
       "  'delivery_status': 'Delivered',\n",
       "  'shipping_cost': 198},\n",
       " {'sender': 'Omega III',\n",
       "  'receiver': 'Ramya',\n",
       "  'start_date': '01-12-2020',\n",
       "  'Delivery_date': 'Null',\n",
       "  'sender_location': 'Area5',\n",
       "  'reciever_location': 'Area1',\n",
       "  'delivery_status': 'In-transit',\n",
       "  'shipping_cost': 200}]"
      ]
     },
     "execution_count": 14,
     "metadata": {},
     "output_type": "execute_result"
    }
   ],
   "source": [
    "[data[i] for i in data if data[i]['receiver']=='Ramya']\n"
   ]
  },
  {
   "cell_type": "markdown",
   "metadata": {},
   "source": [
    "# Q6. Print all shipments which are in 'In-Transit' status"
   ]
  },
  {
   "cell_type": "code",
   "execution_count": 19,
   "metadata": {},
   "outputs": [
    {
     "data": {
      "text/plain": [
       "[{'sender': 'Omega III',\n",
       "  'receiver': 'Ramya',\n",
       "  'start_date': '01-12-2020',\n",
       "  'Delivery_date': 'Null',\n",
       "  'sender_location': 'Area5',\n",
       "  'reciever_location': 'Area1',\n",
       "  'delivery_status': 'In-transit',\n",
       "  'shipping_cost': 200},\n",
       " {'sender': 'John',\n",
       "  'receiver': 'Omega III',\n",
       "  'start_date': '28-06-2020',\n",
       "  'Delivery_date': 'Null',\n",
       "  'sender_location': 'Area3',\n",
       "  'reciever_location': 'Area1',\n",
       "  'delivery_status': 'In-transit',\n",
       "  'shipping_cost': 270}]"
      ]
     },
     "execution_count": 19,
     "metadata": {},
     "output_type": "execute_result"
    }
   ],
   "source": [
    "[data[i] for i in data if data[i]['delivery_status']=='In-transit']"
   ]
  },
  {
   "cell_type": "markdown",
   "metadata": {},
   "source": [
    "# Q7. Print all shipments which are delivered within 7 days of courier Start date"
   ]
  },
  {
   "cell_type": "code",
   "execution_count": 16,
   "metadata": {},
   "outputs": [
    {
     "name": "stdout",
     "output_type": "stream",
     "text": [
      "{'sender': 'Philip', 'receiver': 'John', 'start_date': '23-06-2020', 'Delivery_date': '25-06-2020', 'sender_location': 'Area1', 'reciever_location': 'Area4', 'delivery_status': 'Delivered', 'shipping_cost': 314}\n"
     ]
    }
   ],
   "source": [
    "from datetime import datetime, timedelta\n",
    "end_date= datetime.strptime(datetime.strftime(datetime.now()+timedelta(days = 7),'%d-%m-%Y'),'%d-%m-%Y')\n",
    "for i in data:\n",
    "    if data[i]['Delivery_date']!='Null' and data[i]['start_date'] !='Null': \n",
    "        if abs((datetime.strptime(data[i]['Delivery_date'],'%d-%m-%Y') - datetime.strptime(data[i]['start_date'],'%d-%m-%Y')).days)<7:\n",
    "            print(data[i])"
   ]
  },
  {
   "cell_type": "markdown",
   "metadata": {},
   "source": [
    "# Q8. Print all shipments which are delivered after 15 days of courier start date or not yet been delivered."
   ]
  },
  {
   "cell_type": "code",
   "execution_count": 17,
   "metadata": {},
   "outputs": [
    {
     "data": {
      "text/plain": [
       "[{'sender': 'Philip',\n",
       "  'receiver': 'Ramya',\n",
       "  'start_date': '14-03-2020',\n",
       "  'Delivery_date': '25-03-2020',\n",
       "  'sender_location': 'Area1',\n",
       "  'reciever_location': 'Area6',\n",
       "  'delivery_status': 'Delivered',\n",
       "  'shipping_cost': 198},\n",
       " {'sender': 'Romesh',\n",
       "  'receiver': 'Philip',\n",
       "  'start_date': '18-06-2020',\n",
       "  'Delivery_date': '09-07-2020',\n",
       "  'sender_location': 'Area2',\n",
       "  'reciever_location': 'Area4',\n",
       "  'delivery_status': 'Delivered',\n",
       "  'shipping_cost': 275},\n",
       " {'sender': 'Omega III',\n",
       "  'receiver': 'Ramya',\n",
       "  'start_date': '01-12-2020',\n",
       "  'Delivery_date': 'Null',\n",
       "  'sender_location': 'Area5',\n",
       "  'reciever_location': 'Area1',\n",
       "  'delivery_status': 'In-transit',\n",
       "  'shipping_cost': 200},\n",
       " {'sender': 'Philip',\n",
       "  'receiver': 'John',\n",
       "  'start_date': '23-06-2020',\n",
       "  'Delivery_date': '25-06-2020',\n",
       "  'sender_location': 'Area1',\n",
       "  'reciever_location': 'Area4',\n",
       "  'delivery_status': 'Delivered',\n",
       "  'shipping_cost': 314},\n",
       " {'sender': 'Ramya',\n",
       "  'receiver': 'Romesh',\n",
       "  'start_date': '29-08-2020',\n",
       "  'Delivery_date': '10-09-2020',\n",
       "  'sender_location': 'Area5',\n",
       "  'reciever_location': 'Area3',\n",
       "  'delivery_status': 'Delivered',\n",
       "  'shipping_cost': 275},\n",
       " {'sender': 'John',\n",
       "  'receiver': 'Omega III',\n",
       "  'start_date': '28-06-2020',\n",
       "  'Delivery_date': 'Null',\n",
       "  'sender_location': 'Area3',\n",
       "  'reciever_location': 'Area1',\n",
       "  'delivery_status': 'In-transit',\n",
       "  'shipping_cost': 270}]"
      ]
     },
     "execution_count": 17,
     "metadata": {},
     "output_type": "execute_result"
    }
   ],
   "source": [
    "from datetime import datetime, timedelta\n",
    "end_date= datetime.strptime(datetime.strftime(datetime.now()+timedelta(days = 15),'%d-%m-%Y'),'%d-%m-%Y')\n",
    "[data[i] for i in data if abs((end_date - datetime.strptime(data[i]['start_date'],'%d-%m-%Y')).days)>15 or\n",
    " delivery_status=='In-transit']"
   ]
  },
  {
   "cell_type": "markdown",
   "metadata": {},
   "source": [
    "# Q 9. Write a function find_all_routes to display all possible routes from senders location to receivers location given in the dictionary for each shipment."
   ]
  },
  {
   "cell_type": "code",
   "execution_count": 35,
   "metadata": {},
   "outputs": [
    {
     "name": "stdout",
     "output_type": "stream",
     "text": [
      "matrix [[1, 0, 0, 0, 0], [0, 1, 1, 1, 1], [0, 1, 1, 0, 1], [0, 1, 0, 1, 0], [0, 1, 1, 0, 1]]\n",
      "Shipment Id:  101\n",
      "Sender's Location 1\n",
      "Receiver's Location 3\n",
      "All possible routes : \n",
      "-----------------------------------\n",
      "Shipment Id:  102\n",
      "Sender's Location 4\n",
      "Receiver's Location 1\n",
      "All possible routes : \n",
      "-----------------------------------\n",
      "Shipment Id:  103\n",
      "Sender's Location 2\n",
      "Receiver's Location 3\n",
      "All possible routes : \n",
      "[2, 3]\n",
      "[2, 5, 3]\n",
      "-----------------------------------\n",
      "Shipment Id:  104\n",
      "Sender's Location 1\n",
      "Receiver's Location 5\n",
      "All possible routes : \n",
      "-----------------------------------\n",
      "Shipment Id:  105\n",
      "Sender's Location 3\n",
      "Receiver's Location 4\n",
      "All possible routes : \n",
      "[3, 2, 4]\n",
      "[3, 5, 2, 4]\n",
      "-----------------------------------\n",
      "Shipment Id:  106\n",
      "Sender's Location 5\n",
      "Receiver's Location 2\n",
      "All possible routes : \n",
      "[5, 2]\n",
      "[5, 3, 2]\n",
      "-----------------------------------\n"
     ]
    }
   ],
   "source": [
    "class Graph:\n",
    "    def __init__(self, V):\n",
    "         \n",
    "        self.V = V\n",
    "         \n",
    "        # Initialize all entries\n",
    "        # as false to indicate\n",
    "        # that there are\n",
    "        # no edges initially\n",
    "        self.g = [[0 for j in range(self.V + 1)] for i in range(self.V + 1)]\n",
    "     \n",
    "        # Initializing node to itself\n",
    "        # as it is always reachable\n",
    "        for i in range(self.V + 1):\n",
    "            self.g[i][i] = 1\n",
    "            \n",
    "        self.visited=[False for i in range(self.V + 1)]\n",
    "        self.path = []\n",
    "            \n",
    "    # Function to add edge between nodes\n",
    "    def addEdge(self, v, w):\n",
    " \n",
    "        self.g[v][w] = 1\n",
    "        self.g[w][v] = 1\n",
    "    \n",
    "    def graph_metrix(self):\n",
    "        print('matrix', self.g)\n",
    "        \n",
    "    def find_all_routes(self,matrix,u,d,visited,path):     \n",
    "        visited[u]= True\n",
    "        path.append(u+1) \n",
    "        if u == d: \n",
    "            print(path) \n",
    "        else: \n",
    "             \n",
    "            for i in range(self.V + 1):\n",
    "                if matrix[u][i] == 1 and (visited[i]== False): \n",
    "                    self.find_all_routes(matrix,i, d, visited, path) \n",
    "                      \n",
    "       \n",
    "        path.pop() \n",
    "        visited[u]= False\n",
    "        \n",
    "    \n",
    "    \n",
    "    def Show_all(self,data):\n",
    "        for i in data:\n",
    "            print('Shipment Id: ',i)\n",
    "            s = int(data[i]['sender'])\n",
    "            print(\"Sender's Location\" , s)\n",
    "            r = int(data[i]['receiver'])\n",
    "            print(\"Receiver's Location\" , r)\n",
    "            print('All possible routes : ')\n",
    "            self.find_all_routes(self.g,s-1,r-1,self.visited,self.path)\n",
    "            print('-----------------------------------')\n",
    "    \n",
    "\n",
    "if __name__ == \"__main__\":\n",
    "    data={'101':{'sender':1,'receiver':3, 'start_date':'14-03-2020','Delivery_date':'25-03-2020', 'sender_location':'Area1',\n",
    "'reciever_location':'Area6', 'delivery_status':'Delivered', 'shipping_cost':198},'102':{'sender':4,'receiver':1,\n",
    "'start_date':'18-06-2020','Delivery_date':'09-07-2020', 'sender_location':'Area2','reciever_location':'Area4', 'delivery_status' \n",
    ":'Delivered','shipping_cost':275},'103':{'sender':2,'receiver':3,\n",
    "'start_date':'01-12-2020','Delivery_date':'Null', 'sender_location':'Area5','reciever_location':'Area1', 'delivery_status' \n",
    ":'In-transit','shipping_cost':200}, '104':{'sender':1,'receiver':5,\n",
    "'start_date':'23-06-2020','Delivery_date':'25-06-2020 ', 'sender_location':'Area1','reciever_location':'Area4', 'delivery_status' \n",
    ":'Delivered','shipping_cost':314},'105':{'sender':3,'receiver':4,\n",
    "'start_date':'29-08-2020','Delivery_date':'10-09-2020', 'sender_location':'Area5','reciever_location':'Area3', 'delivery_status' \n",
    ":'Delivered','shipping_cost':275},'106':{'sender':5,'receiver':2,\n",
    "'start_date':'28-06-2020','Delivery_date':'Null', 'sender_location':'Area3','reciever_location':'Area1', 'delivery_status' \n",
    ":'In-transit','shipping_cost':270}}\n",
    "    _g = Graph(4)\n",
    "    _g.addEdge(1, 2)\n",
    "    _g.addEdge(2, 1)\n",
    "    _g.addEdge(1, 4)\n",
    "    _g.addEdge(1, 3)\n",
    "    _g.addEdge(2, 4)\n",
    "    _g.addEdge(4, 1)\n",
    "    _g.addEdge(4, 2)\n",
    "    _g.addEdge(3, 1)\n",
    "    _g.graph_metrix()\n",
    "    _g.Show_all(data)"
   ]
  },
  {
   "cell_type": "code",
   "execution_count": null,
   "metadata": {},
   "outputs": [],
   "source": [
    "# 3 using dictionary comprehension\n",
    "d2 ={i:[clients_data[data[i][0],clients_data[data[i][1]] for i in data }\n",
    "d2"
   ]
  },
  {
   "cell_type": "code",
   "execution_count": null,
   "metadata": {},
   "outputs": [],
   "source": [
    "# 9 "
   ]
  },
  {
   "cell_type": "code",
   "execution_count": 1,
   "metadata": {},
   "outputs": [],
   "source": [
    "dict1 = {'P1':{\"Name\":\"Abhi\",\"Start\":\"Patancheru\",\"Destination\":\"Bengaluru\",\"Fare\":1350,\"Age\":24},\n",
    "         'P2':{\"Name\":\"Jay\",\"Start\":\"Hyd\",\"Destination\":\"Chn\",\"Fare\":1450,\"Age\":29},\n",
    "         'P3':{\"Name\":\"KC\",\"Start\":\"Hyd\",\"Destination\":\"Kerala\",\"Fare\":1235,\"Age\":21}}\n"
   ]
  },
  {
   "cell_type": "code",
   "execution_count": 2,
   "metadata": {},
   "outputs": [
    {
     "name": "stdout",
     "output_type": "stream",
     "text": [
      "key: P1\n",
      "Name Abhi\n",
      "Start Patancheru\n",
      "Destination Bengaluru\n",
      "Fare 1350\n",
      "Age 24\n",
      "key: P2\n",
      "Name Jay\n",
      "Start Hyd\n",
      "Destination Chn\n",
      "Fare 1450\n",
      "Age 29\n",
      "key: P3\n",
      "Name KC\n",
      "Start Hyd\n",
      "Destination Kerala\n",
      "Fare 1235\n",
      "Age 21\n"
     ]
    }
   ],
   "source": [
    "#4. Convert list of Nested Dictionaries into a dataframe. [Input : Nested Dictionaries] ITP\n",
    "#a. Create Nested Dictionary (minimum 3 dictionaries within, Minimum 5 Keys each - can be different or same keys for all dictionaries )\n",
    "#b. access elements of Nested Dictionary\n",
    "#    i.access the contents of Inner Dictionaries\n",
    "#    ii.access all the elements of Nested dictionary\n",
    "#    iii.Access Fare and Destination if Name= Abhi, in Passenger Dictionary\n",
    "#    iv. Iterate through Dictionaries and print each value\n",
    "\n",
    "for key in dict1:\n",
    "    print('key:',key)\n",
    "    for in_key in dict1[key]:\n",
    "        print(in_key,dict1[key][in_key])"
   ]
  },
  {
   "cell_type": "code",
   "execution_count": 10,
   "metadata": {},
   "outputs": [
    {
     "name": "stdout",
     "output_type": "stream",
     "text": [
      "key: P1\n"
     ]
    },
    {
     "ename": "NameError",
     "evalue": "name 'in_dict1' is not defined",
     "output_type": "error",
     "traceback": [
      "\u001b[1;31m---------------------------------------------------------------------------\u001b[0m",
      "\u001b[1;31mNameError\u001b[0m                                 Traceback (most recent call last)",
      "\u001b[1;32m<ipython-input-10-8e8d5702d75d>\u001b[0m in \u001b[0;36m<module>\u001b[1;34m\u001b[0m\n\u001b[0;32m      4\u001b[0m     \u001b[1;32mfor\u001b[0m \u001b[0min_key\u001b[0m \u001b[1;32min\u001b[0m \u001b[0min_dict\u001b[0m\u001b[1;33m:\u001b[0m\u001b[1;33m\u001b[0m\u001b[1;33m\u001b[0m\u001b[0m\n\u001b[0;32m      5\u001b[0m         \u001b[1;32mif\u001b[0m \u001b[0min_key\u001b[0m\u001b[1;33m==\u001b[0m\u001b[1;34m'Name'\u001b[0m\u001b[1;32mand\u001b[0m \u001b[0min_dict\u001b[0m\u001b[1;33m[\u001b[0m\u001b[0min_key\u001b[0m\u001b[1;33m]\u001b[0m\u001b[1;33m==\u001b[0m\u001b[1;34m'Abhi'\u001b[0m\u001b[1;33m:\u001b[0m\u001b[1;33m\u001b[0m\u001b[1;33m\u001b[0m\u001b[0m\n\u001b[1;32m----> 6\u001b[1;33m             \u001b[0mprint\u001b[0m\u001b[1;33m(\u001b[0m\u001b[0min_dict1\u001b[0m\u001b[1;33m[\u001b[0m\u001b[1;34m'Festination'\u001b[0m\u001b[1;33m]\u001b[0m\u001b[1;33m)\u001b[0m\u001b[1;33m\u001b[0m\u001b[1;33m\u001b[0m\u001b[0m\n\u001b[0m\u001b[0;32m      7\u001b[0m             \u001b[0mprint\u001b[0m\u001b[1;33m(\u001b[0m\u001b[0min_dict1\u001b[0m\u001b[1;33m[\u001b[0m\u001b[1;34m'Fare'\u001b[0m\u001b[1;33m]\u001b[0m\u001b[1;33m)\u001b[0m\u001b[1;33m\u001b[0m\u001b[1;33m\u001b[0m\u001b[0m\n\u001b[0;32m      8\u001b[0m \u001b[1;33m\u001b[0m\u001b[0m\n",
      "\u001b[1;31mNameError\u001b[0m: name 'in_dict1' is not defined"
     ]
    }
   ],
   "source": [
    "for key in dict1:\n",
    "    print('key:',key)\n",
    "    in_dict=dict1[key]\n",
    "    for in_key in in_dict:\n",
    "        if in_key=='Name'and in_dict[in_key]=='Abhi':\n",
    "            print(in_dict1['Festination'])\n",
    "            print(in_dict1['Fare'])\n",
    "        "
   ]
  },
  {
   "cell_type": "code",
   "execution_count": null,
   "metadata": {},
   "outputs": [],
   "source": []
  }
 ],
 "metadata": {
  "kernelspec": {
   "display_name": "Python 3",
   "language": "python",
   "name": "python3"
  },
  "language_info": {
   "codemirror_mode": {
    "name": "ipython",
    "version": 3
   },
   "file_extension": ".py",
   "mimetype": "text/x-python",
   "name": "python",
   "nbconvert_exporter": "python",
   "pygments_lexer": "ipython3",
   "version": "3.8.5"
  }
 },
 "nbformat": 4,
 "nbformat_minor": 4
}
